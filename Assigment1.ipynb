{
 "cells": [
  {
   "cell_type": "markdown",
   "id": "b9c25a51-f54d-43ef-86a0-8f806cc7e247",
   "metadata": {},
   "source": [
    "### Q1). Print Your Name with your Father name and Date of birth using suitable escape sequence charactor"
   ]
  },
  {
   "cell_type": "code",
   "execution_count": 13,
   "id": "2762d777-2898-4d6b-aa7e-b057109d5a7f",
   "metadata": {},
   "outputs": [
    {
     "name": "stdout",
     "output_type": "stream",
     "text": [
      "My Name is:  Ahmed Raza\n",
      "My father name is:  Muhammad Raza\n",
      "My age is :  26\n"
     ]
    },
    {
     "name": "stdout",
     "output_type": "stream",
     "text": [
      "Ahmed Raza Muhammad Raza 26\n"
     ]
    }
   ],
   "source": [
    "name = input(\"My Name is: \")\n",
    "f_name  = input(\"My father name is: \")\n",
    "birht_date =  input(\"My age is : \")\n",
    "my_data = name + \" \" + f_name + \" \" + birht_date\n",
    "print(my_data) # by using input value....."
   ]
  },
  {
   "cell_type": "code",
   "execution_count": 15,
   "id": "6b12235c-1f3d-4ad9-848e-8d944f1bfcda",
   "metadata": {},
   "outputs": [
    {
     "name": "stdout",
     "output_type": "stream",
     "text": [
      "['Ahmed Raza', 'Muhammad Raza', '25-may-1999']\n"
     ]
    }
   ],
   "source": [
    "My_Data = [\"Ahmed Raza\", \"Muhammad Raza\", \"25-may-1999\"]\n",
    "print(My_Data) #Creat a list.... "
   ]
  },
  {
   "cell_type": "markdown",
   "id": "3fb13f98-7767-4eb0-99ae-c7bc192c0750",
   "metadata": {},
   "source": [
    "### Q2). Write your small bio using variables and print it using print function"
   ]
  },
  {
   "cell_type": "code",
   "execution_count": 18,
   "id": "f134c899-ffe6-4f34-b716-8422dce96858",
   "metadata": {},
   "outputs": [
    {
     "name": "stdout",
     "output_type": "stream",
     "text": [
      "----Bio----\n",
      "Name: Ahmed Raza\n",
      "Father_Name: Muhammad Raza\n",
      "age: 26\n",
      "Hieght: 5.11\n",
      "Qualigfication: Intermediate\n"
     ]
    }
   ],
   "source": [
    "full_name = \"Ahmed Raza\"\n",
    "father = \"Muhammad Raza\"\n",
    "age = 26\n",
    "Hiegth = 5.11\n",
    "Grade = \"Intermediate\"\n",
    "print(\"----Bio----\")\n",
    "print(\"Name:\",full_name)\n",
    "print(\"Father_Name:\",father)\n",
    "print(\"age:\",age)\n",
    "print(\"Hieght:\",Hiegth)\n",
    "print(\"Qualigfication:\", Grade)\n"
   ]
  },
  {
   "cell_type": "markdown",
   "id": "83e4c14b-d4b0-4ec6-97c9-40d09914d7fb",
   "metadata": {},
   "source": [
    "### Q3). Write a program in which use all the operators we can use in Python"
   ]
  },
  {
   "cell_type": "code",
   "execution_count": 20,
   "id": "eee8d4fa-0eb5-4282-96f2-a0d60932ceae",
   "metadata": {},
   "outputs": [
    {
     "name": "stdout",
     "output_type": "stream",
     "text": [
      "Arithmetic Operators:\n",
      "a + b = 19\n",
      "a - b = 11\n",
      "a * b = 60\n",
      "a / b = 3.75\n",
      "a // b = 3\n",
      "a % b = 3\n",
      "a ** b = 50625\n",
      "\n",
      "Comparison Operators:\n",
      "a == b: False\n",
      "a != b: True\n",
      "a > b: True\n",
      "a < b: False\n",
      "a >= b: True\n",
      "a <= b: False\n",
      "\n",
      "Logical Operators:\n",
      "p and q: False\n",
      "p or q: True\n",
      "not p: False\n",
      "\n",
      "Identity Operators:\n",
      "list1 is list3: True\n",
      "list1 is not list2: True\n",
      "\n"
     ]
    }
   ],
   "source": [
    "# Demonstrating All Operators in Python\n",
    "\n",
    "# 1. Arithmetic Operators\n",
    "a = 15\n",
    "b = 4\n",
    "print(\"Arithmetic Operators:\")\n",
    "print(\"a + b =\", a + b)   # Addition\n",
    "print(\"a - b =\", a - b)   # Subtraction\n",
    "print(\"a * b =\", a * b)   # Multiplication\n",
    "print(\"a / b =\", a / b)   # Division (float)\n",
    "print(\"a // b =\", a // b) # Floor Division\n",
    "print(\"a % b =\", a % b)   # Modulus\n",
    "print(\"a ** b =\", a ** b) # Exponentiation\n",
    "print()\n",
    "\n",
    "\n",
    "# 2. Comparison Operators\n",
    "print(\"Comparison Operators:\")\n",
    "print(\"a == b:\", a == b)\n",
    "print(\"a != b:\", a != b)\n",
    "print(\"a > b:\", a > b)\n",
    "print(\"a < b:\", a < b)\n",
    "print(\"a >= b:\", a >= b)\n",
    "print(\"a <= b:\", a <= b)\n",
    "print()\n",
    "\n",
    "# 4. Logical Operators\n",
    "p = True\n",
    "q = False\n",
    "print(\"Logical Operators:\")\n",
    "print(\"p and q:\", p and q)\n",
    "print(\"p or q:\", p or q)\n",
    "print(\"not p:\", not p)\n",
    "print()\n",
    "\n",
    "# 6. Identity Operators\n",
    "print(\"Identity Operators:\")\n",
    "list1 = [1, 2, 3]\n",
    "list2 = [1, 2, 3]\n",
    "list3 = list1\n",
    "print(\"list1 is list3:\", list1 is list3)\n",
    "print(\"list1 is not list2:\", list1 is not list2)\n",
    "print()"
   ]
  },
  {
   "cell_type": "markdown",
   "id": "9392ac90-aebd-4408-a8c0-900c280b7aff",
   "metadata": {},
   "source": [
    "### Q4). Completes the following steps of small task:\n",
    "-Mention Marks of English , Islamiat and Maths out of 100 in 3 different variables\n",
    "-Mention Variable of Total Marks and assign 300 to it\n",
    "-Calculate Percentage"
   ]
  },
  {
   "cell_type": "code",
   "execution_count": 29,
   "id": "2f87b662-8385-4497-a197-dade6bb39243",
   "metadata": {},
   "outputs": [
    {
     "name": "stdout",
     "output_type": "stream",
     "text": [
      "Obtain Marks: 180\n",
      "Total Marks: 300\n",
      "percent: 60.0 %\n"
     ]
    }
   ],
   "source": [
    "Eng = 60\n",
    "math = 80\n",
    "Isl = 40\n",
    "obt_marks = Eng + math + Isl\n",
    "percent = float(obt_marks * 100 / 300)\n",
    "print(\"Obtain Marks:\", obt_marks)\n",
    "print(\"Total Marks: 300\")\n",
    "print(\"percent:\", percent,\"%\")"
   ]
  },
  {
   "cell_type": "markdown",
   "id": "ce5177be-be3d-46f6-9b09-52435837ec10",
   "metadata": {},
   "source": [
    "### Q5).A company decided to give bonus of 5% to employee if his/her year of service is more than 5 years. Ask user for their salary and year of service and print the net bonus amount."
   ]
  },
  {
   "cell_type": "code",
   "execution_count": 35,
   "id": "5c07b735-edc1-44a8-9536-61f9d92d12cb",
   "metadata": {},
   "outputs": [
    {
     "name": "stdout",
     "output_type": "stream",
     "text": [
      "Your Salary is:  60000\n",
      "Your duration:  2\n"
     ]
    },
    {
     "name": "stdout",
     "output_type": "stream",
     "text": [
      "Sorry You are not eligible for bonus\n",
      "Your Current Salary is: 60000.0\n"
     ]
    }
   ],
   "source": [
    "User_salary = float(input(\"Your Salary is: \"))\n",
    "User_service = int(input(\"Your duration: \"))\n",
    "if (User_service >= 5):\n",
    "    bonus = User_salary * 0.05\n",
    "    print(\"you are eligible for bonus of:\",bonus)\n",
    "    print(\"This Month You Got:\", User_salary+bonus)\n",
    "else:\n",
    "    print(\"Sorry You are not eligible for bonus\")\n",
    "    print(\"Your Current Salary is:\",User_salary)"
   ]
  },
  {
   "cell_type": "markdown",
   "id": "13441920-9cb1-4f5b-8c65-44457e5b2f4b",
   "metadata": {},
   "source": [
    "### Q6). Write a program to check whether a person is eligible for voting or not. (accept age from user) if age is greater than 17 eligible otherwise not eligible"
   ]
  },
  {
   "cell_type": "code",
   "execution_count": 32,
   "id": "8f594fb8-45d1-4e83-8496-6c05c49a59ac",
   "metadata": {},
   "outputs": [
    {
     "name": "stdout",
     "output_type": "stream",
     "text": [
      "enter your age: 20\n"
     ]
    },
    {
     "name": "stdout",
     "output_type": "stream",
     "text": [
      "you can vote\n"
     ]
    }
   ],
   "source": [
    "age = int(input(\"enter your age:\"))\n",
    "if (age >=18 ):\n",
    "    print(\"you can vote\")\n",
    "else:\n",
    "    print(\"You are not eligible\")"
   ]
  },
  {
   "cell_type": "markdown",
   "id": "37d0440d-8e4a-4b48-9c2d-abcd02953296",
   "metadata": {},
   "source": [
    "### Q7). Write a program to check whether a number entered by user is even or odd."
   ]
  },
  {
   "cell_type": "code",
   "execution_count": 37,
   "id": "e5af637e-26b5-4cac-875b-452e58d4404b",
   "metadata": {},
   "outputs": [
    {
     "name": "stdout",
     "output_type": "stream",
     "text": [
      "Enter any num:  13\n"
     ]
    },
    {
     "name": "stdout",
     "output_type": "stream",
     "text": [
      "It's Odd num: 13\n"
     ]
    }
   ],
   "source": [
    "num = int(input(\"Enter any num: \"))\n",
    "if (num % 2 != 0):\n",
    "    print(\"It's Odd num:\", num)\n",
    "else:\n",
    "    print(\"It's Even num:\", num)"
   ]
  },
  {
   "cell_type": "markdown",
   "id": "f1d8bc17-69e6-4e80-b272-50e899bda707",
   "metadata": {},
   "source": [
    "### Q8). Write a program to check whether a number is divisible by 7 or not. Show Answer"
   ]
  },
  {
   "cell_type": "code",
   "execution_count": 39,
   "id": "4c448586-5b3c-41eb-93e0-8bd185721cb9",
   "metadata": {},
   "outputs": [
    {
     "name": "stdout",
     "output_type": "stream",
     "text": [
      "Enter a number:  49\n"
     ]
    },
    {
     "name": "stdout",
     "output_type": "stream",
     "text": [
      "49 is divisible by 7.\n"
     ]
    }
   ],
   "source": [
    "num = int(input(\"Enter a number: \"))\n",
    "if num % 7 == 0:\n",
    "    print(num, \"is divisible by 7.\")\n",
    "else:\n",
    "    print(num, \"is not divisible by 7.\")"
   ]
  },
  {
   "cell_type": "markdown",
   "id": "c2a350ec-f633-4c6a-8bac-fb4c07bb6397",
   "metadata": {},
   "source": [
    "### Q9).Write a program to display \"Hello\" if a number entered by user is a multiple of five , otherwise print \"Bye\"."
   ]
  },
  {
   "cell_type": "code",
   "execution_count": 42,
   "id": "6f6ccdec-1a96-4ef0-9a45-7af5eb3b66fa",
   "metadata": {},
   "outputs": [
    {
     "name": "stdout",
     "output_type": "stream",
     "text": [
      "Enter any num:  150\n"
     ]
    },
    {
     "name": "stdout",
     "output_type": "stream",
     "text": [
      "Hello\n"
     ]
    }
   ],
   "source": [
    "sub = int(input(\"Enter any num: \"))\n",
    "if (sub >=5):\n",
    "    print(\"Hello\")\n",
    "else:\n",
    "    print(\"Bye\")"
   ]
  },
  {
   "cell_type": "markdown",
   "id": "fc2a4bf3-89a4-40b6-b9ab-99e39d239276",
   "metadata": {},
   "source": [
    "### Q10). Write a program to display the last digit of a number."
   ]
  },
  {
   "cell_type": "code",
   "execution_count": 46,
   "id": "b5b6588d-a3fc-4fd2-ac01-0923b7dda57f",
   "metadata": {},
   "outputs": [
    {
     "name": "stdout",
     "output_type": "stream",
     "text": [
      "Enter a number:  675\n"
     ]
    },
    {
     "name": "stdout",
     "output_type": "stream",
     "text": [
      "The last digit of 675 is 5\n"
     ]
    }
   ],
   "source": [
    "num = int(input(\"Enter a number: \"))\n",
    "last_digit = num % 10\n",
    "print(\"The last digit of\", num, \"is\", last_digit)"
   ]
  },
  {
   "cell_type": "markdown",
   "id": "334afb09-b648-49b9-9f7d-17679f0769b1",
   "metadata": {},
   "source": [
    "### Q11). Take values of length and breadth of a rectangle from user and print if it is square or rectangle."
   ]
  },
  {
   "cell_type": "code",
   "execution_count": 47,
   "id": "2dd258f6-4bd5-4876-a518-7672eacea9bb",
   "metadata": {},
   "outputs": [
    {
     "name": "stdout",
     "output_type": "stream",
     "text": [
      "Enter len value:  45\n",
      "Enter breadth value: 34\n"
     ]
    },
    {
     "name": "stdout",
     "output_type": "stream",
     "text": [
      "It is Rectangle\n"
     ]
    }
   ],
   "source": [
    "length = float(input(\"Enter len value: \"))\n",
    "breadth = float(input(\"Enter breadth value:\"))\n",
    "if (length == breadth):\n",
    "    print(\"It is Square\")\n",
    "else:\n",
    "    print(\"It is Rectangle\")"
   ]
  },
  {
   "cell_type": "markdown",
   "id": "a507c973-e436-479a-9348-b0def58ef985",
   "metadata": {},
   "source": [
    "### Q12). Take two int values from user and print greatest among them."
   ]
  },
  {
   "cell_type": "code",
   "execution_count": 50,
   "id": "ced62ca2-84d8-48c5-9b76-4c65be540367",
   "metadata": {},
   "outputs": [
    {
     "name": "stdout",
     "output_type": "stream",
     "text": [
      "Enter First value:  43\n",
      "Enter Second value:  45\n"
     ]
    },
    {
     "name": "stdout",
     "output_type": "stream",
     "text": [
      "45 is greater than 43\n"
     ]
    }
   ],
   "source": [
    "val1 = int(input(\"Enter First value: \"))\n",
    "val2 = int(input(\"Enter Second value: \"))\n",
    "if (val1 > val2):\n",
    "    print(val1, \"is greater than\", val2)\n",
    "else:\n",
    "    print(val2, \"is greater than\", val1)"
   ]
  },
  {
   "cell_type": "markdown",
   "id": "6aa9b470-7159-4184-a567-d77576712262",
   "metadata": {},
   "source": [
    "### Q13).A shop will give discount of 10% if the cost of purchased quantity is more than 1000. Ask user for quantity Suppose, one unit will cost 100. Judge and print total cost for user."
   ]
  },
  {
   "cell_type": "code",
   "execution_count": 58,
   "id": "a22765df-6093-498e-a52c-d5a18bf0dcfb",
   "metadata": {},
   "outputs": [
    {
     "name": "stdout",
     "output_type": "stream",
     "text": [
      "Your Units Quatity:  8000\n"
     ]
    },
    {
     "name": "stdout",
     "output_type": "stream",
     "text": [
      "Your Current amount is:  800000\n",
      "you got 10% discount: 720000.0\n"
     ]
    }
   ],
   "source": [
    "Unit_Qty = int(input(\"Your Units Quatity: \"))\n",
    "unit_cost = 100\n",
    "total_cost = Unit_Qty * 100\n",
    "print(\"Your Current amount is: \", total_cost)\n",
    "if ( Unit_Qty > 1000):\n",
    "    discount = total_cost * 0.10\n",
    "    total_cost -= discount\n",
    "    print(\"you got 10% discount:\",total_cost)\n",
    "else:\n",
    "    print(\"sorry you don't have any discount\")"
   ]
  },
  {
   "cell_type": "markdown",
   "id": "18d740a0-c94c-4be5-b097-a5c9dd08ef4a",
   "metadata": {},
   "source": [
    "### Q14). A school has following rules for grading system:\n",
    "a. Below 25 - F\n",
    "\n",
    "b. 25 to 45 - E\n",
    "\n",
    "c. 45 to 50 - D\n",
    "\n",
    "d. 50 to 60 - C\n",
    "\n",
    "e. 60 to 80 - B\n",
    "\n",
    "f. Above 80 - A\n",
    "\n",
    "Ask user to enter marks and print the corresponding grade"
   ]
  },
  {
   "cell_type": "code",
   "execution_count": 1,
   "id": "ae71f071-a57d-4c7e-9b9f-277e10cbf899",
   "metadata": {},
   "outputs": [
    {
     "name": "stdout",
     "output_type": "stream",
     "text": [
      "Enter Your Marks:  78\n"
     ]
    },
    {
     "name": "stdout",
     "output_type": "stream",
     "text": [
      "your Grade is B\n"
     ]
    }
   ],
   "source": [
    "marks = float(input(\"Enter Your Marks: \"))\n",
    "if( marks >= 80 and marks <100):\n",
    "    print(\"your Grade is A\")\n",
    "elif( marks >=60 and marks <80):\n",
    "    print(\"your Grade is B\")\n",
    "elif( marks >=50 and marks <60):\n",
    "    print(\"your Grade is C\")\n",
    "elif( marks >=45 and marks <50):\n",
    "    print(\"your Grade is D\")\n",
    "elif( marks >=25 and marks <45):\n",
    "    print(\"your Grade is E\")\n",
    "elif( marks <25):\n",
    "    print(\"your Grade is Fail\")\n",
    "else:\n",
    "    print(\"You Entered Invalid marks\")\n",
    "    "
   ]
  },
  {
   "cell_type": "markdown",
   "id": "d97712e2-c67b-4c21-a537-2da9b7e8c320",
   "metadata": {},
   "source": [
    "### Q15).A student will not be allowed to sit in exam if his/her attendence is less than 75%.\n",
    "\n",
    "Take following input from user\n",
    "\n",
    "Number of classes held\n",
    "\n",
    "Number of classes attended.\n",
    "\n",
    "And print\n",
    "\n",
    "percentage of class attended\n",
    "\n",
    "Is student is allowed to sit in exam or not."
   ]
  },
  {
   "cell_type": "code",
   "execution_count": 4,
   "id": "da07be7f-b620-4095-a284-d0680dd5bc8a",
   "metadata": {},
   "outputs": [
    {
     "name": "stdout",
     "output_type": "stream",
     "text": [
      "Enter Total lecture in class:  60\n",
      "Enter Total Attendence in class:  50\n"
     ]
    },
    {
     "name": "stdout",
     "output_type": "stream",
     "text": [
      "83 %\n",
      "You are allowed in exam\n"
     ]
    }
   ],
   "source": [
    "class_held = int(input(\"Enter Total lecture in class: \"))\n",
    "Student_Attendence = int(input(\"Enter Total Attendence in class: \"))\n",
    "attend_per = int(Student_Attendence*100/class_held)\n",
    "print(attend_per,\"%\")\n",
    "if (attend_per >= 75):\n",
    "    print(\"You are allowed in exam\")\n",
    "else:\n",
    "    print(\"You are not allowed in exam\")"
   ]
  },
  {
   "cell_type": "markdown",
   "id": "6ee1d5b0-e9bb-4145-bca6-d550fbb7e671",
   "metadata": {},
   "source": [
    "#### Q15p1). Modify the above question to allow student to sit if he/she has medical cause. Ask user if he/she has medical cause or not ( 'Y' or 'N' ) and print accordingly"
   ]
  },
  {
   "cell_type": "code",
   "execution_count": 16,
   "id": "fb2dff83-98e5-45be-a9f1-952a45e754e0",
   "metadata": {},
   "outputs": [
    {
     "name": "stdout",
     "output_type": "stream",
     "text": [
      "Enter total lecture in semister:  70\n",
      "Enter your total attendence in semister:  48\n"
     ]
    },
    {
     "name": "stdout",
     "output_type": "stream",
     "text": [
      "68 %\n"
     ]
    },
    {
     "name": "stdout",
     "output_type": "stream",
     "text": [
      "is your leave cause madical? (Y/N) y\n"
     ]
    },
    {
     "name": "stdout",
     "output_type": "stream",
     "text": [
      "You are allow due to medical issue\n"
     ]
    }
   ],
   "source": [
    "Total_lecture = int(input(\"Enter total lecture in semister: \"))\n",
    "Total_attendence = int(input(\"Enter your total attendence in semister: \"))\n",
    "attendence_per = int(Total_attendence *100/Total_lecture)\n",
    "print(attendence_per,\"%\")\n",
    "if attendence_per >= 75:\n",
    "    print(\"You are allow to sit in exam\")\n",
    "else:\n",
    "    medical_issue = input(\"is your leave cause madical? (Y/N)\").strip().upper()\n",
    "    if medical_issue == \"Y\":\n",
    "        print(\"You are allow due to medical issue\")\n",
    "    else:\n",
    "        print(\"You are not allow to sit in exam\")"
   ]
  },
  {
   "cell_type": "markdown",
   "id": "e31c61a8-36fb-43a3-841e-8fe5b2398a21",
   "metadata": {},
   "source": [
    "### Q16). Write a program to check if a year is leap year or not.\n",
    "If a year is divisible by 4 then it is leap year but if the year is century year like 2000, 1900, 2100 then it must be divisible by 400."
   ]
  },
  {
   "cell_type": "code",
   "execution_count": 18,
   "id": "91e770c9-abe1-4e2f-b3ae-a49466d7b1b4",
   "metadata": {},
   "outputs": [
    {
     "name": "stdout",
     "output_type": "stream",
     "text": [
      "Enter a year:  2017\n"
     ]
    },
    {
     "name": "stdout",
     "output_type": "stream",
     "text": [
      "2017 is NOT a Leap Year.\n"
     ]
    }
   ],
   "source": [
    "year = int(input(\"Enter a year: \"))\n",
    "if (year % 400 == 0) or (year % 4 == 0 and year % 100 != 0):\n",
    "    print(year, \"is a Leap Year.\")\n",
    "else:\n",
    "    print(year, \"is NOT a Leap Year.\")\n"
   ]
  },
  {
   "cell_type": "markdown",
   "id": "d6aef61a-3be1-425f-9ad7-a9f9e7a7b092",
   "metadata": {},
   "source": [
    "### Q13). Ask user to enter age, gender ( M or F ), marital status ( Y or N ) and then using following rules print their place of service.\n",
    "if employee is female, then she will work only in urban areas.\n",
    "\n",
    "if employee is a male and age is in between 20 to 40 then he may work in anywhere\n",
    "\n",
    "if employee is male and age is in between 40 t0 60 then he will work in urban areas only.\n",
    "\n",
    "And any other input of age should print \"ERROR\""
   ]
  },
  {
   "cell_type": "code",
   "execution_count": 34,
   "id": "58679750-fb37-42ed-8232-06045bee47f4",
   "metadata": {},
   "outputs": [
    {
     "name": "stdout",
     "output_type": "stream",
     "text": [
      "Enter your name:  Ali\n",
      "Enter your age:  44\n",
      "what is your gender? answer in (M/F):  M\n",
      "Are You married? Answer in (Y/N):  y\n"
     ]
    },
    {
     "name": "stdout",
     "output_type": "stream",
     "text": [
      "You can work only in urban areas\n"
     ]
    }
   ],
   "source": [
    "employee = input(\"Enter your name: \")\n",
    "age = int(input(\"Enter your age: \"))\n",
    "gender = input(\"what is your gender? answer in (M/F): \").strip().upper()\n",
    "marital_status = input(\"Are You married? Answer in (Y/N): \").strip().upper()\n",
    "if(gender == \"F\"):\n",
    "    print(\"You will work only in urban areas\")\n",
    "elif(gender == \"M\" and 20 <= age < 40):\n",
    "    print(\"You can work anywhere\")\n",
    "elif(gender == \"M\" and 40 <= age < 60):\n",
    "    print(\"You can work only in urban areas\")\n",
    "else:\n",
    "    print(\"Error\")\n",
    "    "
   ]
  },
  {
   "cell_type": "markdown",
   "id": "04b42bc8-82a5-4210-bb91-8a0283b8f0b1",
   "metadata": {},
   "source": [
    "### Q14).Write a program to calculate the electricity bill (accept number of unit from user) according to the following criteria : Unit Price\n",
    "uptp 100 units no charge Next 200 units Rs 5 per unit After 200 units Rs 10 per unit (For example if input unit is 350 than total bill amount is Rs.3500 (For example if input unit is 97 than total bill amount is Rs.0 (For example if input unit is 150 than total bill amount is Rs.750\n",
    "Take input of age of 3 people by user and determine oldest and youngest among them."
   ]
  },
  {
   "cell_type": "code",
   "execution_count": 40,
   "id": "96f96a7e-821d-4bb3-b404-a045ebaa7efe",
   "metadata": {},
   "outputs": [
    {
     "name": "stdout",
     "output_type": "stream",
     "text": [
      "Enter total unit in a month:  101\n"
     ]
    },
    {
     "name": "stdout",
     "output_type": "stream",
     "text": [
      "Your bill amount is:  505\n"
     ]
    }
   ],
   "source": [
    "unit = int(input(\"Enter total unit in a month: \"))\n",
    "if unit <= 100:\n",
    "    print(\"Your Bill amount is : 0\")\n",
    "elif unit >100 and unit <200:\n",
    "    print(\"Your bill amount is: \", unit * 5)\n",
    "elif unit >=200:\n",
    "    print(\"Your bill amount is: \", unit * 10)\n",
    "else:\n",
    "    print(\"invalid unit\")"
   ]
  },
  {
   "cell_type": "code",
   "execution_count": null,
   "id": "29d70f72-9dae-4feb-889d-f0585333a226",
   "metadata": {},
   "outputs": [],
   "source": [
    "age1 = input(\"Enter your age: \")\n",
    "age2 = input(\"Enter your age: \")\n",
    "age3 = input(\"Enter your age: \")\n",
    "oldest = max(age1, age2, age3)\n",
    "youngest = min(age1, age2, age3)\n",
    "print(\"Oldest age is:\",oldest)\n",
    "print(\"Youngest age is:\",youngest)"
   ]
  },
  {
   "cell_type": "markdown",
   "id": "14588992-0456-4e08-978c-9da3f40db22e",
   "metadata": {},
   "source": [
    "ok"
   ]
  },
  {
   "cell_type": "markdown",
   "id": "08d96276",
   "metadata": {},
   "source": []
  }
 ],
 "metadata": {
  "kernelspec": {
   "display_name": "base",
   "language": "python",
   "name": "python3"
  },
  "language_info": {
   "codemirror_mode": {
    "name": "ipython",
    "version": 3
   },
   "file_extension": ".py",
   "mimetype": "text/x-python",
   "name": "python",
   "nbconvert_exporter": "python",
   "pygments_lexer": "ipython3",
   "version": "3.13.5"
  }
 },
 "nbformat": 4,
 "nbformat_minor": 5
}
